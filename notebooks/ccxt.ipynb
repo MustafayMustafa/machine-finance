{
 "cells": [
  {
   "cell_type": "markdown",
   "metadata": {},
   "source": [
    "# CCXT API experiments"
   ]
  },
  {
   "cell_type": "code",
   "execution_count": null,
   "metadata": {},
   "outputs": [],
   "source": [
    "import ccxt"
   ]
  },
  {
   "cell_type": "code",
   "execution_count": null,
   "metadata": {},
   "outputs": [],
   "source": [
    "# list all exchanges\n",
    "ccxt.exchanges"
   ]
  },
  {
   "cell_type": "code",
   "execution_count": null,
   "metadata": {},
   "outputs": [],
   "source": [
    "# Check if the exchange 'Coinbase' is supported\n",
    "list(filter(lambda x: 'coinbase' in x, ccxt.exchanges))"
   ]
  },
  {
   "cell_type": "markdown",
   "metadata": {},
   "source": [
    "### interacting with exchange"
   ]
  },
  {
   "cell_type": "code",
   "execution_count": null,
   "metadata": {},
   "outputs": [],
   "source": [
    "exchange = ccxt.coinbasepro()\n",
    "\n",
    "# show all curreny pairs available\n",
    "exchange.load_markets()"
   ]
  },
  {
   "cell_type": "code",
   "execution_count": null,
   "metadata": {},
   "outputs": [],
   "source": [
    "# view single currency pair\n",
    "exchange.symbols"
   ]
  },
  {
   "cell_type": "code",
   "execution_count": null,
   "metadata": {},
   "outputs": [],
   "source": [
    "# view individual currency pair\n",
    "list(filter(lambda x: 'BTC/GBP' in x, exchange.symbols))\n",
    "\n",
    "ticker = exchange.fetch_ticker('BTC/GBP')\n",
    "ticker"
   ]
  },
  {
   "cell_type": "code",
   "execution_count": null,
   "metadata": {},
   "outputs": [],
   "source": [
    "# fetch OHLCV data\n",
    "ohlcv = exchange.fetch_ohlcv('BTC/GBP')\n",
    "ohlcv"
   ]
  },
  {
   "cell_type": "markdown",
   "metadata": {},
   "source": [
    "# Order Book\n",
    "An order book is a catalog of bid and ask prices, volume and other data such as spread."
   ]
  },
  {
   "cell_type": "markdown",
   "metadata": {},
   "source": [
    "### Fetching the order book for BTC/GBP"
   ]
  },
  {
   "cell_type": "code",
   "execution_count": null,
   "metadata": {},
   "outputs": [],
   "source": [
    "import ccxt\n",
    "exchange = ccxt.coinbasepro()"
   ]
  },
  {
   "cell_type": "markdown",
   "metadata": {},
   "source": [
    "Response structure\n",
    "```\n",
    "{\n",
    "    'bids':[\n",
    "        [price, amount]\n",
    "    ],\n",
    "    'asks':[\n",
    "        [price, amount]\n",
    "    ],\n",
    "    'symbol' : ...,\n",
    "    'timestamp': ...,\n",
    "    'datetime': ...,\n",
    "}\n",
    "```\n",
    "* bids: sorting(price - descending)\n",
    "* asks: sorting(price - ascending)"
   ]
  },
  {
   "cell_type": "code",
   "execution_count": null,
   "metadata": {},
   "outputs": [],
   "source": [
    "orderbook = exchange.fetch_order_book('BTC/GBP', limit=1)\n",
    "orderbook"
   ]
  },
  {
   "cell_type": "markdown",
   "metadata": {},
   "source": [
    "### Market Price\n",
    "Calculating the current best price and bid-ask spread"
   ]
  },
  {
   "cell_type": "code",
   "execution_count": 63,
   "metadata": {},
   "outputs": [
    {
     "name": "stdout",
     "output_type": "stream",
     "text": [
      "coinbasepro. market price: bid=23898.62, ask=23910.89, spread=12.270000000000437\n"
     ]
    }
   ],
   "source": [
    "# take first element from bid and ask\n",
    "bid = orderbook['bids'][0][0]\n",
    "ask = orderbook['asks'][0][0]\n",
    "spread = ask - bid\n",
    "print(f\"{exchange.id}. market price: bid={bid}, ask={ask}, spread={spread}\")"
   ]
  },
  {
   "cell_type": "code",
   "execution_count": null,
   "metadata": {},
   "outputs": [],
   "source": []
  }
 ],
 "metadata": {
  "interpreter": {
   "hash": "71e8eb0ff359f4af7ae6bcf98312af71a66b6f58896869668fc8b79110fd6aa7"
  },
  "kernelspec": {
   "display_name": "Python 3.8.9 ('env': venv)",
   "language": "python",
   "name": "python3"
  },
  "language_info": {
   "codemirror_mode": {
    "name": "ipython",
    "version": 3
   },
   "file_extension": ".py",
   "mimetype": "text/x-python",
   "name": "python",
   "nbconvert_exporter": "python",
   "pygments_lexer": "ipython3",
   "version": "3.8.9"
  },
  "orig_nbformat": 4
 },
 "nbformat": 4,
 "nbformat_minor": 2
}
